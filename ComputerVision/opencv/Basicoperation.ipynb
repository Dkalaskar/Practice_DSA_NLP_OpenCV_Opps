{
 "cells": [
  {
   "cell_type": "code",
   "execution_count": 1,
   "metadata": {},
   "outputs": [],
   "source": [
    "import cv2 as cv\n",
    "import numpy as np\n",
    "import pandas as pd "
   ]
  },
  {
   "attachments": {},
   "cell_type": "markdown",
   "metadata": {},
   "source": [
    "**Accessing and Modifying pixel values**"
   ]
  },
  {
   "cell_type": "code",
   "execution_count": 22,
   "metadata": {},
   "outputs": [
    {
     "name": "stdout",
     "output_type": "stream",
     "text": [
      "[57 63 68]\n",
      "Accesing Blue Pixel \n",
      "57\n",
      "[255 255 255]\n"
     ]
    }
   ],
   "source": [
    "img  = cv.imread('D:/PracticeAll/Images/testingimg.jpg')\n",
    "px = img[100,100]\n",
    "print(px)\n",
    "print(\"Accesing Blue Pixel \")\n",
    "blue = img[100,100,0]\n",
    "print(blue)\n",
    "#Modify Image pixcel sameway\n",
    "img[100,100] = [255,255,255]\n",
    "print(img[100,100])\n",
    "\n",
    "# cv.imshow('img',img)\n",
    "cv.waitKey(0)\n",
    "cv.destroyAllWindows()\n"
   ]
  },
  {
   "cell_type": "code",
   "execution_count": 23,
   "metadata": {},
   "outputs": [
    {
     "data": {
      "text/plain": [
       "100"
      ]
     },
     "execution_count": 23,
     "metadata": {},
     "output_type": "execute_result"
    }
   ],
   "source": [
    "#Accesing only red Value\n",
    "img.item(10,10,2)\n",
    "#Mosfying red Value\n",
    "img.itemset((10,10,2),100)\n",
    "img.item(10,10,2)"
   ]
  },
  {
   "attachments": {},
   "cell_type": "markdown",
   "metadata": {},
   "source": [
    "**Accessing Image Properties**"
   ]
  },
  {
   "cell_type": "code",
   "execution_count": 24,
   "metadata": {},
   "outputs": [
    {
     "name": "stdout",
     "output_type": "stream",
     "text": [
      "Image Shape - (280, 450, 3)\n",
      "Image Size -  378000\n",
      "Image Datatype Is - uint8\n"
     ]
    }
   ],
   "source": [
    "print(\"Image Shape -\" ,img.shape) # Print Image Shape\n",
    "print(\"Image Size - \", img.size) # Image Size\n",
    "print(\"Image Datatype Is -\", img.dtype)\n"
   ]
  },
  {
   "attachments": {},
   "cell_type": "markdown",
   "metadata": {},
   "source": [
    "**Regions Of Image (ROI)**"
   ]
  },
  {
   "cell_type": "code",
   "execution_count": 3,
   "metadata": {},
   "outputs": [
    {
     "name": "stdout",
     "output_type": "stream",
     "text": [
      "(168, 153, 3)\n"
     ]
    }
   ],
   "source": [
    "img2 = cv.imread(\"D:/PracticeAll/Images/thor.jpg\") # Read The Image\n",
    "img2 = cv.resize(img2,(700,700)) #Reesize the image\n",
    "#Find ROI\n",
    "#values of cordinant(281, 17)(434,185)\n",
    "\n",
    "roi = img2[17:185,281:434]\n",
    "#Diff y= 168 x= 153\n",
    "print(roi.shape)\n",
    "\n",
    "\n",
    "#place roi on image \n",
    "img2[17:185, 420:573] = roi\n",
    "# img2[17:185, 574:727] = roi\n",
    "img2[17:185, 128:281] = roi\n",
    "\n",
    "#Change y axs\n",
    "img2[185:353, 70:223]=roi\n",
    "\n",
    "\n",
    "\n",
    " \n",
    "\n",
    "cv.imshow(\"image\", img2)\n",
    "cv.waitKey(0)\n",
    "cv.destroyAllWindows()"
   ]
  },
  {
   "cell_type": "code",
   "execution_count": 15,
   "metadata": {},
   "outputs": [
    {
     "name": "stdout",
     "output_type": "stream",
     "text": [
      "(5, 5, 3)\n"
     ]
    }
   ],
   "source": [
    "img = cv.imread(\"D:/PracticeAll/Images/mario.jpg\")\n",
    "\n",
    "#ROI\n",
    "roi = img[70:75,79:84]\n",
    "print(roi.shape)\n",
    "import matplotlib.pyplot as plt\n",
    "# plt.subplot(237),plt.imshow(img),plt.title(\"Original\")\n",
    "# plt.subplot(238),plt.imshow(roi),plt.title(\"ROI\")\n",
    "# plt.imshow()\n",
    "cv.imshow(\"ROI\",roi)\n",
    "cv.imshow(\"Img\", img)\n",
    "cv.waitKey(0)\n",
    "cv.destroyAllWindows()"
   ]
  },
  {
   "attachments": {},
   "cell_type": "markdown",
   "metadata": {},
   "source": [
    "**Splitting and Merging Image Channels**"
   ]
  },
  {
   "cell_type": "code",
   "execution_count": 103,
   "metadata": {},
   "outputs": [],
   "source": [
    "img3 = cv.imread(\"D:/PracticeAll/Images/messi.jpg\")\n",
    "img3 = cv.resize(img3,(500,500)) \n",
    "# b,g,r = cv.split(img3)\n",
    "# img3 = cv.merge((b,g,r))\n",
    "# b = img3[:,:,0\n",
    "img3[:,:,2]=0\n",
    "\n",
    "cv.imshow(\"image\", img3)\n",
    "cv.waitKey(0)\n",
    "cv.destroyAllWindows()"
   ]
  },
  {
   "attachments": {},
   "cell_type": "markdown",
   "metadata": {},
   "source": [
    "**Making Borders for Images (Padding)**"
   ]
  },
  {
   "cell_type": "code",
   "execution_count": 102,
   "metadata": {},
   "outputs": [
    {
     "data": {
      "image/png": "[encoded data removed]",
      "text/plain": [
       "<Figure size 640x480 with 6 Axes>"
      ]
     },
     "metadata": {},
     "output_type": "display_data"
    }
   ],
   "source": [
    "import matplotlib.pyplot as plt\n",
    "BLUE = [255,0,0]\n",
    "img4 = cv.imread(\"D:/PracticeAll/Images/opencv.png\")\n",
    "\n",
    "replicate  = cv.copyMakeBorder(img4,5,5,5,5,cv.BORDER_REPLICATE)\n",
    "reflect = cv.copyMakeBorder(img4,5,5,5,5,cv.BORDER_REFLECT)\n",
    "reflect101 = cv.copyMakeBorder(img4,5,5,5,5,cv.BORDER_REFLECT_101)\n",
    "wrap = cv.copyMakeBorder(img4,5,5,5,5,cv.BORDER_WRAP)\n",
    "constant = cv.copyMakeBorder(img4,5,5,5,5,cv.BORDER_CONSTANT,value=BLUE)\n",
    "\n",
    "plt.subplot(231),plt.imshow(img4,'gray'),plt.title('ORIGINAL')\n",
    "plt.subplot(232),plt.imshow(replicate,'gray'),plt.title('REPLICATE')\n",
    "plt.subplot(233),plt.imshow(reflect,'gray'),plt.title('REFLECT')\n",
    "plt.subplot(234),plt.imshow(reflect101,'gray'),plt.title('REFELECT_101')\n",
    "plt.subplot(235),plt.imshow(wrap,'gray'),plt.title('WRAP')\n",
    "plt.subplot(236),plt.imshow(constant,'gray'),plt.title('CONTANT')\n",
    "\n",
    "plt.show()\n"
   ]
  },
  {
   "cell_type": "code",
   "execution_count": 110,
   "metadata": {},
   "outputs": [
    {
     "name": "stdout",
     "output_type": "stream",
     "text": [
      "(183, 151, 3)\n",
      "(185, 150, 3)\n"
     ]
    }
   ],
   "source": [
    "img1 = cv.imread('D:/PracticeAll/Images/opencv_logo.jpg')\n",
    "img2 = cv.imread('D:/PracticeAll/Images/ml_logo.jpg')\n",
    "print(img1.shape)\n",
    "print(img2.shape)\n",
    "img2 = cv.resize(img2, (img1.shape[1], img1.shape[0]))\n",
    "dst = cv.addWeighted(img1,0.7, img2,0.3,0)\n",
    "cv.imshow('dst', dst)\n",
    "cv.waitKey(0)\n",
    "cv.destroyAllWindows()"
   ]
  },
  {
   "cell_type": "code",
   "execution_count": null,
   "metadata": {},
   "outputs": [],
   "source": []
  }
 ],
 "metadata": {
  "kernelspec": {
   "display_name": ".venv",
   "language": "python",
   "name": "python3"
  },
  "language_info": {
   "codemirror_mode": {
    "name": "ipython",
    "version": 3
   },
   "file_extension": ".py",
   "mimetype": "text/x-python",
   "name": "python",
   "nbconvert_exporter": "python",
   "pygments_lexer": "ipython3",
   "version": "3.10.8"
  },
  "orig_nbformat": 4
 },
 "nbformat": 4,
 "nbformat_minor": 2
}
