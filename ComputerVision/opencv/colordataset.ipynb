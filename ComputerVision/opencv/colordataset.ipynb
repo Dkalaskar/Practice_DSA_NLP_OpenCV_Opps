{
 "cells": [
  {
   "cell_type": "code",
   "execution_count": 1,
   "metadata": {},
   "outputs": [],
   "source": [
    "import numpy as np\n",
    "import pandas as pd\n",
    "\n",
    "# Function to generate random HSV values within a specific range for each color\n",
    "def generate_hsv_color(color_name, hue_range, saturation_range, value_range, num_samples=100):\n",
    "    h = np.random.uniform(hue_range[0], hue_range[1], num_samples)\n",
    "    s = np.random.uniform(saturation_range[0], saturation_range[1], num_samples)\n",
    "    v = np.random.uniform(value_range[0], value_range[1], num_samples)\n",
    "    df = pd.DataFrame({'H': h, 'S': s, 'V': v, 'color_name': color_name})\n",
    "    return df\n",
    "\n",
    "# Define HSV ranges for each color\n",
    "colors_hsv_ranges = {\n",
    "    'black': ([0, 360], [0, 0], [0, 50]),\n",
    "    'blue': ([180, 250], [50, 255], [50, 255]),\n",
    "    'brown': ([10, 30], [50, 255], [50, 255]),\n",
    "    'cyan': ([85, 165], [50, 255], [50, 255]),\n",
    "    'green': ([60, 150], [50, 255], [50, 255]),\n",
    "    'grey': ([0, 360], [0, 50], [50, 200]),\n",
    "    'orange': ([5, 40], [100, 255], [100, 255]),\n",
    "    'pink': ([300, 340], [50, 255], [50, 255]),\n",
    "    'purple': ([260, 290], [50, 255], [50, 255]),\n",
    "    'red': ([340, 20], [50, 255], [50, 255]),\n",
    "    'white': ([0, 360], [0, 0], [200, 255]),\n",
    "    'yellow': ([50, 70], [100, 255], [100, 255]),\n",
    "}\n",
    "\n",
    "# Create the HSV dataset\n",
    "dataset = pd.DataFrame()\n",
    "for color_name, hsv_ranges in colors_hsv_ranges.items():\n",
    "    df_color = generate_hsv_color(color_name, hsv_ranges[0], hsv_ranges[1], hsv_ranges[2])\n",
    "    dataset = pd.concat([dataset, df_color], ignore_index=True)\n",
    "\n",
    "# Shuffle the dataset\n",
    "dataset = dataset.sample(frac=1, random_state=42).reset_index(drop=True)\n",
    "\n",
    "# Save the dataset to a CSV file\n",
    "dataset.to_csv('color_dataset_hsv.csv', index=False)"
   ]
  },
  {
   "cell_type": "code",
   "execution_count": 7,
   "metadata": {},
   "outputs": [
    {
     "data": {
      "text/html": [
       "<div>\n",
       "<style scoped>\n",
       "    .dataframe tbody tr th:only-of-type {\n",
       "        vertical-align: middle;\n",
       "    }\n",
       "\n",
       "    .dataframe tbody tr th {\n",
       "        vertical-align: top;\n",
       "    }\n",
       "\n",
       "    .dataframe thead th {\n",
       "        text-align: right;\n",
       "    }\n",
       "</style>\n",
       "<table border=\"1\" class=\"dataframe\">\n",
       "  <thead>\n",
       "    <tr style=\"text-align: right;\">\n",
       "      <th></th>\n",
       "      <th>H</th>\n",
       "      <th>S</th>\n",
       "      <th>V</th>\n",
       "      <th>color_name</th>\n",
       "    </tr>\n",
       "  </thead>\n",
       "  <tbody>\n",
       "    <tr>\n",
       "      <th>1195</th>\n",
       "      <td>72.608289</td>\n",
       "      <td>0.000000</td>\n",
       "      <td>222.781694</td>\n",
       "      <td>white</td>\n",
       "    </tr>\n",
       "    <tr>\n",
       "      <th>1196</th>\n",
       "      <td>152.690340</td>\n",
       "      <td>0.000000</td>\n",
       "      <td>210.918497</td>\n",
       "      <td>white</td>\n",
       "    </tr>\n",
       "    <tr>\n",
       "      <th>1197</th>\n",
       "      <td>56.225015</td>\n",
       "      <td>209.901132</td>\n",
       "      <td>206.042874</td>\n",
       "      <td>yellow</td>\n",
       "    </tr>\n",
       "    <tr>\n",
       "      <th>1198</th>\n",
       "      <td>263.910881</td>\n",
       "      <td>83.620784</td>\n",
       "      <td>157.337619</td>\n",
       "      <td>purple</td>\n",
       "    </tr>\n",
       "    <tr>\n",
       "      <th>1199</th>\n",
       "      <td>64.010135</td>\n",
       "      <td>115.487929</td>\n",
       "      <td>119.433894</td>\n",
       "      <td>yellow</td>\n",
       "    </tr>\n",
       "  </tbody>\n",
       "</table>\n",
       "</div>"
      ],
      "text/plain": [
       "               H           S           V color_name\n",
       "1195   72.608289    0.000000  222.781694      white\n",
       "1196  152.690340    0.000000  210.918497      white\n",
       "1197   56.225015  209.901132  206.042874     yellow\n",
       "1198  263.910881   83.620784  157.337619     purple\n",
       "1199   64.010135  115.487929  119.433894     yellow"
      ]
     },
     "execution_count": 7,
     "metadata": {},
     "output_type": "execute_result"
    }
   ],
   "source": [
    "data = pd.read_csv(\"D:/PracticeAll/ComputerVision/opencv/color_dataset_hsv.csv\")\n",
    "data.tail()"
   ]
  },
  {
   "cell_type": "code",
   "execution_count": 6,
   "metadata": {},
   "outputs": [
    {
     "data": {
      "text/html": [
       "<div>\n",
       "<style scoped>\n",
       "    .dataframe tbody tr th:only-of-type {\n",
       "        vertical-align: middle;\n",
       "    }\n",
       "\n",
       "    .dataframe tbody tr th {\n",
       "        vertical-align: top;\n",
       "    }\n",
       "\n",
       "    .dataframe thead th {\n",
       "        text-align: right;\n",
       "    }\n",
       "</style>\n",
       "<table border=\"1\" class=\"dataframe\">\n",
       "  <thead>\n",
       "    <tr style=\"text-align: right;\">\n",
       "      <th></th>\n",
       "      <th>H</th>\n",
       "      <th>S</th>\n",
       "      <th>V</th>\n",
       "    </tr>\n",
       "  </thead>\n",
       "  <tbody>\n",
       "    <tr>\n",
       "      <th>count</th>\n",
       "      <td>1200.000000</td>\n",
       "      <td>1200.000000</td>\n",
       "      <td>1200.000000</td>\n",
       "    </tr>\n",
       "    <tr>\n",
       "      <th>mean</th>\n",
       "      <td>155.854457</td>\n",
       "      <td>120.603968</td>\n",
       "      <td>149.760929</td>\n",
       "    </tr>\n",
       "    <tr>\n",
       "      <th>std</th>\n",
       "      <td>107.071819</td>\n",
       "      <td>82.454414</td>\n",
       "      <td>68.535196</td>\n",
       "    </tr>\n",
       "    <tr>\n",
       "      <th>min</th>\n",
       "      <td>1.507388</td>\n",
       "      <td>0.000000</td>\n",
       "      <td>0.008222</td>\n",
       "    </tr>\n",
       "    <tr>\n",
       "      <th>25%</th>\n",
       "      <td>59.687413</td>\n",
       "      <td>50.045080</td>\n",
       "      <td>95.641227</td>\n",
       "    </tr>\n",
       "    <tr>\n",
       "      <th>50%</th>\n",
       "      <td>143.054268</td>\n",
       "      <td>128.851393</td>\n",
       "      <td>151.919088</td>\n",
       "    </tr>\n",
       "    <tr>\n",
       "      <th>75%</th>\n",
       "      <td>261.338174</td>\n",
       "      <td>192.722136</td>\n",
       "      <td>212.038609</td>\n",
       "    </tr>\n",
       "    <tr>\n",
       "      <th>max</th>\n",
       "      <td>358.428683</td>\n",
       "      <td>254.951402</td>\n",
       "      <td>254.768023</td>\n",
       "    </tr>\n",
       "  </tbody>\n",
       "</table>\n",
       "</div>"
      ],
      "text/plain": [
       "                 H            S            V\n",
       "count  1200.000000  1200.000000  1200.000000\n",
       "mean    155.854457   120.603968   149.760929\n",
       "std     107.071819    82.454414    68.535196\n",
       "min       1.507388     0.000000     0.008222\n",
       "25%      59.687413    50.045080    95.641227\n",
       "50%     143.054268   128.851393   151.919088\n",
       "75%     261.338174   192.722136   212.038609\n",
       "max     358.428683   254.951402   254.768023"
      ]
     },
     "execution_count": 6,
     "metadata": {},
     "output_type": "execute_result"
    }
   ],
   "source": [
    "data.describe()"
   ]
  },
  {
   "cell_type": "code",
   "execution_count": 8,
   "metadata": {},
   "outputs": [
    {
     "data": {
      "text/plain": [
       "(1200, 4)"
      ]
     },
     "execution_count": 8,
     "metadata": {},
     "output_type": "execute_result"
    }
   ],
   "source": [
    "data.shape"
   ]
  },
  {
   "cell_type": "code",
   "execution_count": 10,
   "metadata": {},
   "outputs": [
    {
     "data": {
      "text/plain": [
       "<bound method DataFrame.info of                H           S           V color_name\n",
       "0      61.447922  174.743621  130.968697     yellow\n",
       "1     277.790508  163.037774  108.535545     purple\n",
       "2     248.702546  224.066992   98.430223       blue\n",
       "3     121.799799  161.926245  170.844355      green\n",
       "4       3.451662    0.000000   34.420650      black\n",
       "...          ...         ...         ...        ...\n",
       "1195   72.608289    0.000000  222.781694      white\n",
       "1196  152.690340    0.000000  210.918497      white\n",
       "1197   56.225015  209.901132  206.042874     yellow\n",
       "1198  263.910881   83.620784  157.337619     purple\n",
       "1199   64.010135  115.487929  119.433894     yellow\n",
       "\n",
       "[1200 rows x 4 columns]>"
      ]
     },
     "execution_count": 10,
     "metadata": {},
     "output_type": "execute_result"
    }
   ],
   "source": [
    "data.info"
   ]
  },
  {
   "cell_type": "code",
   "execution_count": 11,
   "metadata": {},
   "outputs": [
    {
     "data": {
      "text/plain": [
       "H             False\n",
       "S             False\n",
       "V             False\n",
       "color_name    False\n",
       "dtype: bool"
      ]
     },
     "execution_count": 11,
     "metadata": {},
     "output_type": "execute_result"
    }
   ],
   "source": [
    "data.isna().any()"
   ]
  },
  {
   "cell_type": "code",
   "execution_count": 12,
   "metadata": {},
   "outputs": [
    {
     "data": {
      "text/plain": [
       "color_name\n",
       "yellow    100\n",
       "purple    100\n",
       "blue      100\n",
       "green     100\n",
       "black     100\n",
       "cyan      100\n",
       "red       100\n",
       "brown     100\n",
       "grey      100\n",
       "pink      100\n",
       "orange    100\n",
       "white     100\n",
       "Name: count, dtype: int64"
      ]
     },
     "execution_count": 12,
     "metadata": {},
     "output_type": "execute_result"
    }
   ],
   "source": [
    "data['color_name'].value_counts()"
   ]
  },
  {
   "cell_type": "code",
   "execution_count": 2,
   "metadata": {},
   "outputs": [
    {
     "data": {
      "image/png": "[encoded data removed]",
      "text/plain": [
       "<Figure size 1000x600 with 1 Axes>"
      ]
     },
     "metadata": {},
     "output_type": "display_data"
    },
    {
     "data": {
      "image/png": "[encoded data removed]",
      "text/plain": [
       "<Figure size 1000x600 with 1 Axes>"
      ]
     },
     "metadata": {},
     "output_type": "display_data"
    }
   ],
   "source": [
    "import pandas as pd\n",
    "import seaborn as sns\n",
    "import matplotlib.pyplot as plt\n",
    "\n",
    "# Load the dataset from CSV\n",
    "dataset = pd.read_csv('D:/Dataset/hsvcolor/train_combined_20k_hsv.csv')\n",
    "\n",
    "# Create box plots for each feature (H, S, V)\n",
    "plt.figure(figsize=(10, 6))\n",
    "sns.boxplot(data=dataset[['H', 'S', 'V']])\n",
    "plt.title('Box Plots for HSV Features')\n",
    "plt.xlabel('HSV Features')\n",
    "plt.ylabel('Values')\n",
    "plt.show()\n",
    "\n",
    "# Create violin plots for each feature (H, S, V)\n",
    "plt.figure(figsize=(10, 6))\n",
    "sns.violinplot(data=dataset[['H', 'S', 'V']])\n",
    "plt.title('Violin Plots for HSV Features')\n",
    "plt.xlabel('HSV Features')\n",
    "plt.ylabel('Values')\n",
    "plt.show()"
   ]
  },
  {
   "cell_type": "code",
   "execution_count": 5,
   "metadata": {},
   "outputs": [
    {
     "data": {
      "text/html": [
       "<div>\n",
       "<style scoped>\n",
       "    .dataframe tbody tr th:only-of-type {\n",
       "        vertical-align: middle;\n",
       "    }\n",
       "\n",
       "    .dataframe tbody tr th {\n",
       "        vertical-align: top;\n",
       "    }\n",
       "\n",
       "    .dataframe thead th {\n",
       "        text-align: right;\n",
       "    }\n",
       "</style>\n",
       "<table border=\"1\" class=\"dataframe\">\n",
       "  <thead>\n",
       "    <tr style=\"text-align: right;\">\n",
       "      <th></th>\n",
       "      <th>H</th>\n",
       "      <th>S</th>\n",
       "      <th>V</th>\n",
       "    </tr>\n",
       "  </thead>\n",
       "  <tbody>\n",
       "    <tr>\n",
       "      <th>count</th>\n",
       "      <td>16505.000000</td>\n",
       "      <td>16505.000000</td>\n",
       "      <td>16505.00000</td>\n",
       "    </tr>\n",
       "    <tr>\n",
       "      <th>mean</th>\n",
       "      <td>82.726399</td>\n",
       "      <td>142.613462</td>\n",
       "      <td>183.03714</td>\n",
       "    </tr>\n",
       "    <tr>\n",
       "      <th>std</th>\n",
       "      <td>60.233841</td>\n",
       "      <td>82.837836</td>\n",
       "      <td>70.74481</td>\n",
       "    </tr>\n",
       "    <tr>\n",
       "      <th>min</th>\n",
       "      <td>0.000000</td>\n",
       "      <td>0.000000</td>\n",
       "      <td>0.00000</td>\n",
       "    </tr>\n",
       "    <tr>\n",
       "      <th>25%</th>\n",
       "      <td>24.620690</td>\n",
       "      <td>71.290323</td>\n",
       "      <td>137.00000</td>\n",
       "    </tr>\n",
       "    <tr>\n",
       "      <th>50%</th>\n",
       "      <td>72.911392</td>\n",
       "      <td>156.441718</td>\n",
       "      <td>208.00000</td>\n",
       "    </tr>\n",
       "    <tr>\n",
       "      <th>75%</th>\n",
       "      <td>142.075472</td>\n",
       "      <td>216.121076</td>\n",
       "      <td>244.00000</td>\n",
       "    </tr>\n",
       "    <tr>\n",
       "      <th>max</th>\n",
       "      <td>179.882353</td>\n",
       "      <td>255.000000</td>\n",
       "      <td>255.00000</td>\n",
       "    </tr>\n",
       "  </tbody>\n",
       "</table>\n",
       "</div>"
      ],
      "text/plain": [
       "                  H             S            V\n",
       "count  16505.000000  16505.000000  16505.00000\n",
       "mean      82.726399    142.613462    183.03714\n",
       "std       60.233841     82.837836     70.74481\n",
       "min        0.000000      0.000000      0.00000\n",
       "25%       24.620690     71.290323    137.00000\n",
       "50%       72.911392    156.441718    208.00000\n",
       "75%      142.075472    216.121076    244.00000\n",
       "max      179.882353    255.000000    255.00000"
      ]
     },
     "execution_count": 5,
     "metadata": {},
     "output_type": "execute_result"
    }
   ],
   "source": [
    "dataset.describe()"
   ]
  },
  {
   "cell_type": "code",
   "execution_count": 6,
   "metadata": {},
   "outputs": [
    {
     "data": {
      "text/plain": [
       "H             False\n",
       "S             False\n",
       "V             False\n",
       "color_name    False\n",
       "dtype: bool"
      ]
     },
     "execution_count": 6,
     "metadata": {},
     "output_type": "execute_result"
    }
   ],
   "source": [
    "dataset.isna().any()"
   ]
  },
  {
   "cell_type": "code",
   "execution_count": null,
   "metadata": {},
   "outputs": [],
   "source": []
  }
 ],
 "metadata": {
  "kernelspec": {
   "display_name": ".venv",
   "language": "python",
   "name": "python3"
  },
  "language_info": {
   "codemirror_mode": {
    "name": "ipython",
    "version": 3
   },
   "file_extension": ".py",
   "mimetype": "text/x-python",
   "name": "python",
   "nbconvert_exporter": "python",
   "pygments_lexer": "ipython3",
   "version": "3.10.8"
  },
  "orig_nbformat": 4
 },
 "nbformat": 4,
 "nbformat_minor": 2
}
