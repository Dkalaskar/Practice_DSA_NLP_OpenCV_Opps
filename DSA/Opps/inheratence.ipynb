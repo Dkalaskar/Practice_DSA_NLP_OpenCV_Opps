{
 "cells": [
  {
   "cell_type": "code",
   "execution_count": 3,
   "metadata": {},
   "outputs": [
    {
     "name": "stdout",
     "output_type": "stream",
     "text": [
      "Hello This is parent class\n",
      "hello this is a child class\n"
     ]
    }
   ],
   "source": [
    "#Single Inheretance\n",
    "\n",
    "class parentclass():\n",
    "    def function1(self):\n",
    "        print(\"Hello This is parent class\")\n",
    "class childclass(parentclass):\n",
    "    def function2(self):\n",
    "        print(\"hello this is a child class\")\n",
    "       \n",
    "#when create a objet in single inheretance we cretae only child class object and inherate the parent class property \n",
    "#using child class \n",
    "\n",
    "c1 = childclass()\n",
    "c1.function1() \n",
    "c1.function2()     \n",
    "                "
   ]
  },
  {
   "cell_type": "code",
   "execution_count": 4,
   "metadata": {},
   "outputs": [
    {
     "name": "stdout",
     "output_type": "stream",
     "text": [
      "This is Parent Class\n",
      "this is school section\n",
      "All The Student\n"
     ]
    }
   ],
   "source": [
    "#Multilevel Inheritance\n",
    "class school:\n",
    "    def myclass(self):\n",
    "        print(\"This is Parent Class\")\n",
    "class section(school):\n",
    "    def mysection(self):\n",
    "        print(\"this is school section\")\n",
    "class student(section):\n",
    "    def mystudent(self):\n",
    "        print(\"All The Student\")\n",
    "        \n",
    "c1 = student()\n",
    "c1.myclass()\n",
    "c1.mysection()\n",
    "c1.mystudent()                        "
   ]
  },
  {
   "cell_type": "code",
   "execution_count": 5,
   "metadata": {},
   "outputs": [
    {
     "name": "stdout",
     "output_type": "stream",
     "text": [
      "This is Parent Class\n",
      "This is subparent class\n",
      "print above two class\n"
     ]
    }
   ],
   "source": [
    "#Multiple Inheritance\n",
    "class A:\n",
    "    def funct1(self):\n",
    "        print(\"This is Parent Class\")\n",
    "\n",
    "class B:\n",
    "    def funct2(self):\n",
    "        print(\"This is subparent class\")\n",
    "class c(A,B):\n",
    "    def funct3(self):\n",
    "        print(\"print above two class\")\n",
    "\n",
    "c1 = c()\n",
    "c1.funct1()\n",
    "c1.funct2()\n",
    "c1.funct3()                        "
   ]
  },
  {
   "cell_type": "code",
   "execution_count": 6,
   "metadata": {},
   "outputs": [
    {
     "name": "stdout",
     "output_type": "stream",
     "text": [
      "Class class of function A\n",
      "Class of funct B\n",
      "Class class of function A\n",
      "class of funct C\n"
     ]
    }
   ],
   "source": [
    "#Hirchical Inhehitance\n",
    "class A:\n",
    "    def funct1(self):\n",
    "        print(\"Class class of function A\")\n",
    "class B(A):\n",
    "    def funct2(self):\n",
    "        print(\"Class of funct B\")\n",
    "class C(A):\n",
    "    def funct3(self):\n",
    "        print(\"class of funct C\") \n",
    "        \n",
    "c1 = B()\n",
    "c2 = C()\n",
    "c1.funct1()\n",
    "c1.funct2()\n",
    "c2.funct1()\n",
    "c2.funct3()                       "
   ]
  },
  {
   "cell_type": "code",
   "execution_count": 7,
   "metadata": {},
   "outputs": [
    {
     "name": "stdout",
     "output_type": "stream",
     "text": [
      "This is a parent Class\n",
      "This is a B1 Clhild Class\n",
      "This is a C1 Child Class\n",
      "This is a D1 Child Class\n"
     ]
    }
   ],
   "source": [
    "#Hybrid Inheritance\n",
    "class A1:#Parent Class\n",
    "    def functA1(self):\n",
    "        print(\"This is a parent Class\")\n",
    "\n",
    "class B1(A1):# Child Class\n",
    "    def functB1(self):\n",
    "        print(\"This is a B1 Clhild Class\")\n",
    "\n",
    "class D1(A1):#Child Class\n",
    "    def functD1(self):\n",
    "        print(\"This is a D1 Child Class\")\n",
    "\n",
    "class C1(B1,D1):#Child Class\n",
    "    def functC1(self):\n",
    "        print(\"This is a C1 Child Class\") \n",
    "        \n",
    "obj = C1()\n",
    "obj.functA1()\n",
    "obj.functB1()\n",
    "obj.functC1()\n",
    "obj.functD1()                        "
   ]
  },
  {
   "cell_type": "code",
   "execution_count": null,
   "metadata": {},
   "outputs": [],
   "source": []
  }
 ],
 "metadata": {
  "kernelspec": {
   "display_name": ".venv",
   "language": "python",
   "name": "python3"
  },
  "language_info": {
   "codemirror_mode": {
    "name": "ipython",
    "version": 3
   },
   "file_extension": ".py",
   "mimetype": "text/x-python",
   "name": "python",
   "nbconvert_exporter": "python",
   "pygments_lexer": "ipython3",
   "version": "3.10.8"
  },
  "orig_nbformat": 4
 },
 "nbformat": 4,
 "nbformat_minor": 2
}
